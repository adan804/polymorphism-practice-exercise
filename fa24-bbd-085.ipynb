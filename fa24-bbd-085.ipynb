{
 "cells": [
  {
   "cell_type": "code",
   "execution_count": null,
   "id": "03d8ee4c",
   "metadata": {},
   "outputs": [],
   "source": [
    "#FA24-BBD-085\n",
    "#Syeda Adan Raza\n",
    "#practice Question"
   ]
  },
  {
   "cell_type": "code",
   "execution_count": null,
   "id": "3f8f14f7",
   "metadata": {},
   "outputs": [],
   "source": [
    "#Q.9:Create a class Shape with a method to calculate area. Create subclasses Circle, Rectangle, \n",
    "#and Triangle that inherit from Shape and implement their specific area calculations."
   ]
  },
  {
   "cell_type": "code",
   "execution_count": 2,
   "id": "29325721",
   "metadata": {},
   "outputs": [
    {
     "name": "stdout",
     "output_type": "stream",
     "text": [
      "Circle Area: 78.54\n",
      "Rectangle Area: 24.00\n",
      "Triangle Area: 10.50\n"
     ]
    }
   ],
   "source": [
    "import math\n",
    "class Shape:\n",
    "    def calculate_area(self):\n",
    "        raise NotImplementedError(\"Subclasses must implement this method\")\n",
    "class Circle(Shape):\n",
    "    def __init__(self, radius):\n",
    "        self.radius = radius\n",
    "    def calculate_area(self):\n",
    "        return math.pi * (self.radius ** 2)\n",
    "class Rectangle(Shape):\n",
    "    def __init__(self, width, height):\n",
    "        self.width = width\n",
    "        self.height = height\n",
    "    def calculate_area(self):\n",
    "        return self.width * self.height\n",
    "class Triangle(Shape):\n",
    "    def __init__(self, base, height):\n",
    "        self.base = base\n",
    "        self.height = height\n",
    "    def calculate_area(self):\n",
    "        return 0.5 * self.base * self.height\n",
    "if __name__ == \"__main__\":\n",
    "    circle = Circle(5)\n",
    "    rectangle = Rectangle(4, 6)\n",
    "    triangle = Triangle(3, 7)\n",
    "    print(f\"Circle Area: {circle.calculate_area():.2f}\")\n",
    "    print(f\"Rectangle Area: {rectangle.calculate_area():.2f}\")\n",
    "    print(f\"Triangle Area: {triangle.calculate_area():.2f}\")\n",
    "\n"
   ]
  },
  {
   "cell_type": "code",
   "execution_count": null,
   "id": "2fcf15d2",
   "metadata": {},
   "outputs": [],
   "source": [
    "#Q.10:Create a class Animal with attributes name and sound. Create subclasses Dog, Cat, and Cow that inherit from Animal \n",
    "#and implement their specific sounds."
   ]
  },
  {
   "cell_type": "code",
   "execution_count": 3,
   "id": "d286e4df",
   "metadata": {},
   "outputs": [
    {
     "name": "stdout",
     "output_type": "stream",
     "text": [
      "Buddy says Woof!\n",
      "Whiskers says Meow!\n",
      "Bessie says Moo!\n"
     ]
    }
   ],
   "source": [
    "class Animal:\n",
    "    def __init__(self, name):\n",
    "        self.name = name\n",
    "    def make_sound(self):\n",
    "        raise NotImplementedError(\"Subclasses must implement this method\")\n",
    "class Dog(Animal):\n",
    "    def make_sound(self):\n",
    "        return f\"{self.name} says Woof!\"\n",
    "class Cat(Animal):\n",
    "    def make_sound(self):\n",
    "        return f\"{self.name} says Meow!\"\n",
    "class Cow(Animal):\n",
    "    def make_sound(self):\n",
    "        return f\"{self.name} says Moo!\"\n",
    "if __name__ == \"__main__\":\n",
    "    dog = Dog(\"Buddy\")\n",
    "    cat = Cat(\"Whiskers\")\n",
    "    cow = Cow(\"Bessie\")\n",
    "    print(dog.make_sound())\n",
    "    print(cat.make_sound())\n",
    "    print(cow.make_sound())\n",
    "\n"
   ]
  },
  {
   "cell_type": "code",
   "execution_count": null,
   "id": "3c421da0",
   "metadata": {},
   "outputs": [],
   "source": []
  }
 ],
 "metadata": {
  "kernelspec": {
   "display_name": "Python 3 (ipykernel)",
   "language": "python",
   "name": "python3"
  },
  "language_info": {
   "codemirror_mode": {
    "name": "ipython",
    "version": 3
   },
   "file_extension": ".py",
   "mimetype": "text/x-python",
   "name": "python",
   "nbconvert_exporter": "python",
   "pygments_lexer": "ipython3",
   "version": "3.11.5"
  }
 },
 "nbformat": 4,
 "nbformat_minor": 5
}
